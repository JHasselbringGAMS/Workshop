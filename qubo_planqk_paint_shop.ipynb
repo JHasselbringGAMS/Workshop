{
  "cells": [
    {
      "cell_type": "markdown",
      "metadata": {
        "id": "mzV8Mzv1pKW9"
      },
      "source": [
        "# Heuristics vs Mathematical Optimization Using the Binary Paintshop Problem\n",
        "- In car manufacturing one of the final production steps is painting.\n",
        "- Multiple cars of different types (A to D) arrive in a given sequence at the paintshop.\n",
        " ![sequence](https://github.com/JHasselbringGAMS/Workshop/blob/main/car_sequence.png?raw=1)\n",
        "- The cars have to be painted with a base coat that is either white or black (here referred to as red or blue).\n",
        "- The demand for white and black colors for a given car type is also given.\n",
        "\n",
        "This problem can be simplified to a minimal working example:\n",
        "- In the sequence of cars arriving at the paintshop each vehicle type arrives exactly twice.\n",
        "- One car of each vehicle type has to be painted white, the other one has to be painted black.\n",
        "\n",
        "As changing colors requires time and produces waist, the goal is to minimize the number of color changes with respect to the constraint of coloring one car white and one black for each vehicle type.\n",
        "\n",
        "This problem can be solved both heuristically or with a mathematical optimization approach."
      ]
    },
    {
      "cell_type": "code",
      "execution_count": 10,
      "metadata": {
        "id": "xQOt82kWpKW_"
      },
      "outputs": [],
      "source": [
        "# Install dependencies\n",
        "! pip install -q gamspy"
      ]
    },
    {
      "cell_type": "code",
      "execution_count": 11,
      "metadata": {
        "id": "yM9X7nO3pKXB",
        "outputId": "38e1e95a-cabd-40c7-f174-a518b8feb17f",
        "colab": {
          "base_uri": "https://localhost:8080/"
        }
      },
      "outputs": [
        {
          "output_type": "stream",
          "name": "stdout",
          "text": [
            "Requirement already satisfied: planqk-service-sdk in /usr/local/lib/python3.11/dist-packages (2.6.0)\n",
            "Requirement already satisfied: authlib>=1.5.1 in /usr/local/lib/python3.11/dist-packages (from planqk-service-sdk) (1.6.1)\n",
            "Requirement already satisfied: httpx>=0.28.1 in /usr/local/lib/python3.11/dist-packages (from planqk-service-sdk) (0.28.1)\n",
            "Requirement already satisfied: pydantic<2.10,>=2.5.0 in /usr/local/lib/python3.11/dist-packages (from planqk-service-sdk) (2.9.2)\n",
            "Requirement already satisfied: cryptography in /usr/local/lib/python3.11/dist-packages (from authlib>=1.5.1->planqk-service-sdk) (43.0.3)\n",
            "Requirement already satisfied: anyio in /usr/local/lib/python3.11/dist-packages (from httpx>=0.28.1->planqk-service-sdk) (4.10.0)\n",
            "Requirement already satisfied: certifi in /usr/local/lib/python3.11/dist-packages (from httpx>=0.28.1->planqk-service-sdk) (2025.8.3)\n",
            "Requirement already satisfied: httpcore==1.* in /usr/local/lib/python3.11/dist-packages (from httpx>=0.28.1->planqk-service-sdk) (1.0.9)\n",
            "Requirement already satisfied: idna in /usr/local/lib/python3.11/dist-packages (from httpx>=0.28.1->planqk-service-sdk) (3.10)\n",
            "Requirement already satisfied: h11>=0.16 in /usr/local/lib/python3.11/dist-packages (from httpcore==1.*->httpx>=0.28.1->planqk-service-sdk) (0.16.0)\n",
            "Requirement already satisfied: annotated-types>=0.6.0 in /usr/local/lib/python3.11/dist-packages (from pydantic<2.10,>=2.5.0->planqk-service-sdk) (0.7.0)\n",
            "Requirement already satisfied: pydantic-core==2.23.4 in /usr/local/lib/python3.11/dist-packages (from pydantic<2.10,>=2.5.0->planqk-service-sdk) (2.23.4)\n",
            "Requirement already satisfied: typing-extensions>=4.6.1 in /usr/local/lib/python3.11/dist-packages (from pydantic<2.10,>=2.5.0->planqk-service-sdk) (4.14.1)\n",
            "Requirement already satisfied: sniffio>=1.1 in /usr/local/lib/python3.11/dist-packages (from anyio->httpx>=0.28.1->planqk-service-sdk) (1.3.1)\n",
            "Requirement already satisfied: cffi>=1.12 in /usr/local/lib/python3.11/dist-packages (from cryptography->authlib>=1.5.1->planqk-service-sdk) (1.17.1)\n",
            "Requirement already satisfied: pycparser in /usr/local/lib/python3.11/dist-packages (from cffi>=1.12->cryptography->authlib>=1.5.1->planqk-service-sdk) (2.22)\n",
            "fatal: destination path 'QUBO' already exists and is not an empty directory.\n"
          ]
        }
      ],
      "source": [
        "! pip install planqk-service-sdk\n",
        "! git clone https://github.com/GAMS-dev/QUBO.git && cd QUBO/gamspy_qubo && pip install . && pip install -r requirements.txt"
      ]
    },
    {
      "cell_type": "code",
      "execution_count": 24,
      "metadata": {
        "id": "QOI0ooOkpKXC"
      },
      "outputs": [],
      "source": [
        "import random\n",
        "random.seed(42)"
      ]
    },
    {
      "cell_type": "markdown",
      "metadata": {
        "id": "whfbGLwJpKXE"
      },
      "source": [
        "## Data"
      ]
    },
    {
      "cell_type": "code",
      "execution_count": 25,
      "metadata": {
        "id": "pKDswlQQpKXE",
        "outputId": "278c6337-af7d-4eb2-d6a2-7e9e373ce819",
        "colab": {
          "base_uri": "https://localhost:8080/"
        }
      },
      "outputs": [
        {
          "output_type": "stream",
          "name": "stdout",
          "text": [
            "['B', 'A', 'A', 'A', 'B']\n",
            "Demand for black cars: {'A': 3, 'B': 0}\n"
          ]
        }
      ],
      "source": [
        "types = set([\"A\", \"B\"])\n",
        "n_types = len(types)\n",
        "sequence = random.choices(list(types), k=5)\n",
        "print(sequence)\n",
        "demand_white = {t: random.randint(0, sequence.count(t)) for t in types}\n",
        "demand_black = {t: sequence.count(t) - demand_white[t] for t in types}\n",
        "print(f\"Demand for black cars: {demand_black}\")"
      ]
    },
    {
      "cell_type": "markdown",
      "metadata": {
        "id": "Iixrytg1pKXH"
      },
      "source": [
        "## Mathematical Modeling\n"
      ]
    },
    {
      "cell_type": "markdown",
      "metadata": {
        "id": "WkCEPcBOpKXJ"
      },
      "source": [
        "We define our constraint\n",
        "\n",
        "$$\\sum_{i: (i,j) \\in \\mathcal{IJ}} X_i = b_j; \\forall \\ j \\in \\mathcal{J}$$\n",
        "\n",
        "as an Equation. Since it holds for all $j$ the equation is in the domain $j$. Then we can directly use `gp.Sum()` to define the constraint.\n",
        "\n",
        "The objective\n",
        "$$\\sum_{i \\in \\mathcal{I} \\hspace{0.75mm} | \\hspace{0.75mm} i < |I|} (X_i - X_{i+1})^2$$\n",
        "\n",
        "is defined as an expression."
      ]
    },
    {
      "cell_type": "code",
      "execution_count": 26,
      "metadata": {
        "id": "gTR0ujDXpKXS"
      },
      "outputs": [],
      "source": [
        "import gamspy as gp\n",
        "from gamspy.math import sqr\n",
        "\n",
        "m = gp.Container()\n",
        "\n",
        "# create sets\n",
        "i = gp.Set(m, \"i\", description=\"number in sequence\")\n",
        "j = gp.Set(m, \"j\", description=\"car type\")\n",
        "IJ = gp.Set(\n",
        "    m,\n",
        "    \"IJ\",\n",
        "    domain=[i, j],\n",
        "    records=[(i + 1, sequence[i]) for i in range(len(sequence))],\n",
        "    domain_forwarding=True,\n",
        ")\n",
        "\n",
        "# create variables\n",
        "X = m.addVariable(\"X\", domain=[i], type=\"binary\", description=\"color indicator\")\n",
        "\n",
        "black_demand = gp.Parameter(\n",
        "    m,\n",
        "    \"black_demand\",\n",
        "    domain=[j],\n",
        "    records=[(type, demand) for type, demand in demand_black.items()],\n",
        ")\n",
        "\n",
        "MeetBlackDemand = gp.Equation(m, \"MeetBlackDemand\", domain=j)\n",
        "MeetBlackDemand[j] = gp.Sum(IJ[i, j], X[i]) == black_demand[j]\n",
        "\n",
        "obj = gp.Sum(i.where[gp.Ord(i) < gp.Card(i)], sqr(X[i] - X[i + 1]))\n",
        "\n",
        "paintshop = gp.Model(\n",
        "    m,\n",
        "    name=\"paintshop\",\n",
        "    problem=\"MIQCP\",\n",
        "    equations=[MeetBlackDemand],\n",
        "    # -----------------------------------------------------\n",
        "    # The model formulation is chosen for the minimzation problem\n",
        "    # Max here just changes the sign, the solver returns good results\n",
        "    # for up to 5 cars if its set to MAX, if its set to MIN it fails\n",
        "    # Not sure what could be the cuase for this problem\n",
        "    sense=gp.Sense.MAX,\n",
        "    # -----------------------------------------------------\n",
        "    objective=obj,\n",
        ")\n",
        "paintshop.solve(solver=\"CPLEX\")\n",
        "\n",
        "classical_string = \"\".join([\"1\" if x > 0.5 else \"0\" for x in X.records[\"level\"]])\n"
      ]
    },
    {
      "cell_type": "code",
      "execution_count": 27,
      "metadata": {
        "id": "_Ms_cj9GpKXV",
        "outputId": "6872c0cc-9856-4036-adbb-d70345b43a65",
        "colab": {
          "base_uri": "https://localhost:8080/"
        }
      },
      "outputs": [
        {
          "output_type": "stream",
          "name": "stdout",
          "text": [
            "Key: 01110, Count: 432, Objective Value: 2, Feasible: True\n",
            "Key: 11111, Count: 192, Objective Value: 0, Feasible: False\n",
            "Key: 01100, Count: 86, Objective Value: 2, Feasible: False\n",
            "Key: 11110, Count: 65, Objective Value: 1, Feasible: False\n",
            "Key: 01111, Count: 43, Objective Value: 1, Feasible: False\n",
            "Key: 11101, Count: 33, Objective Value: 2, Feasible: False\n",
            "Key: 01010, Count: 27, Objective Value: 4, Feasible: False\n",
            "Key: 00010, Count: 19, Objective Value: 2, Feasible: False\n",
            "Key: 00100, Count: 16, Objective Value: 2, Feasible: False\n",
            "Key: 01000, Count: 16, Objective Value: 2, Feasible: False\n",
            "Classical Solution:\n",
            "Key: 01110, Count: 432, Objective Value: 2, Feasible: True\n"
          ]
        }
      ],
      "source": [
        "import json\n",
        "import numpy as np\n",
        "from gamspy_qubo import Qubo\n",
        "from planqk.service.client import PlanqkServiceClient\n",
        "\n",
        "\n",
        "paintshop_qubo = Qubo(paintshop, name=\"paintshop_qubo\", penalty=10)\n",
        "paintshop_qubo.solve()\n",
        "\n",
        "qubo_matrix = paintshop_qubo.qubo\n",
        "\n",
        "rows_idx, cols_idx = np.triu_indices(qubo_matrix.shape[0])\n",
        "\n",
        "values = qubo_matrix[rows_idx, cols_idx]\n",
        "\n",
        "final_qubo = {}\n",
        "for r, c, v in zip(rows_idx, cols_idx, values):\n",
        "    if r == c:\n",
        "        final_qubo[f\"({r},)\"] = v\n",
        "    else:\n",
        "        final_qubo[f\"({r},{c})\"] = v\n",
        "\n",
        "from google.colab import userdata\n",
        "\n",
        "consumer_key = userdata.get(\"PlanqkConsumerKey\")\n",
        "consumer_secret = userdata.get(\"PlanqkConsumerSecret\")\n",
        "\n",
        "free_dcqo_endpoint = \"https://gateway.platform.planqk.de/kipu-quantum/kipu-digitized-counterdiabatic-quantum-optimization---dcqo/1.0.0\"\n",
        "premium_dcqo_endpoint = \"https://gateway.platform.planqk.de/kipu-quantum/kipu-premium-digitized-counterdiabatic-quantum-optimization---premium-dcqo/1.0.0\"\n",
        "commercial_bias_field_endpoint = \"https://gateway.platform.planqk.de/kipu-quantum/kipu-bias-field-digitized-counterdiabatic-quantum-optimization---bfdcqo/1.0.0\"\n",
        "\n",
        "client = PlanqkServiceClient(free_dcqo_endpoint, consumer_key, consumer_secret)\n",
        "\n",
        "data = {\n",
        "    \"optimization\": {\n",
        "        \"coefficients\": final_qubo,\n",
        "        \"annealing_time\": 0.7,\n",
        "        \"trotter_steps\": 2,\n",
        "        \"mode\": \"CD\",\n",
        "    }\n",
        "}\n",
        "\n",
        "params = {\"backend\": \"azure.ionq.simulator\", \"shots\": 1024}\n",
        "\n",
        "job = client.run(request={\"data\": data, \"params\": params})\n",
        "job_id = job.id\n",
        "\n",
        "result = client.get_service_execution(job_id)\n",
        "counts = result.result().dict()[\"counts\"]\n",
        "counts = dict(sorted(counts.items(), key=lambda item: item[1], reverse=True))\n",
        "\n",
        "def calculate_switches(binary_string):\n",
        "    return sum(1 for i in range(len(binary_string) - 1) if binary_string[i] != binary_string[i+1])\n",
        "\n",
        "\n",
        "def is_solution_feasible(solution_string):\n",
        "    if len(sequence) != len(solution_string):\n",
        "        return False  # The solution must be the same length as the sequence\n",
        "\n",
        "    black_cars_painted = {car_type: 0 for car_type in set(sequence)}\n",
        "\n",
        "    for car_type, paint_color in zip(sequence, solution_string):\n",
        "        if paint_color == \"1\":\n",
        "            black_cars_painted[car_type] += 1\n",
        "\n",
        "    return all(\n",
        "        black_cars_painted.get(t, 0) == demand_black.get(t, 0)\n",
        "        for t in set(sequence)\n",
        "    )\n",
        "\n",
        "\n",
        "for idx in range(10):\n",
        "    key = list(counts.keys())[idx]\n",
        "    count = counts[key]\n",
        "    objective_value = calculate_switches(key)\n",
        "    feasible = is_solution_feasible(key)\n",
        "    print(f\"Key: {key}, Count: {count}, Objective Value: {objective_value}, Feasible: {feasible}\")\n",
        "\n",
        "print(\"Classical Solution:\")\n",
        "key = classical_string\n",
        "count = counts[key]\n",
        "objective_value = calculate_switches(key)\n",
        "feasible = is_solution_feasible(key)\n",
        "print(f\"Key: {key}, Count: {count}, Objective Value: {objective_value}, Feasible: {feasible}\")"
      ]
    },
    {
      "cell_type": "code",
      "source": [
        "client = PlanqkServiceClient(premium_dcqo_endpoint, consumer_key, consumer_secret)\n",
        "job = client.run(request={\"data\": data, \"params\": params})\n",
        "job_id = job.id\n",
        "\n",
        "result = client.get_service_execution(job_id)\n",
        "counts = result.result().dict()[\"counts\"]\n",
        "counts = dict(sorted(counts.items(), key=lambda item: item[1], reverse=True))\n",
        "for idx in range(10):\n",
        "    key = list(counts.keys())[idx]\n",
        "    count = counts[key]\n",
        "    objective_value = calculate_switches(key)\n",
        "    feasible = is_solution_feasible(key)\n",
        "    print(f\"Key: {key}, Count: {count}, Objective Value: {objective_value}, Feasible: {feasible}\")\n",
        "\n",
        "print(\"Classical Solution:\")\n",
        "key = classical_string\n",
        "count = counts[key]\n",
        "objective_value = calculate_switches(key)\n",
        "feasible = is_solution_feasible(key)\n",
        "print(f\"Key: {key}, Count: {count}, Objective Value: {objective_value}, Feasible: {feasible}\")"
      ],
      "metadata": {
        "id": "L2fbB_ZzrXfB",
        "outputId": "0b80f5f3-5f06-4d75-9c52-b0501596127f",
        "colab": {
          "base_uri": "https://localhost:8080/",
          "height": 216
        }
      },
      "execution_count": 19,
      "outputs": [
        {
          "output_type": "error",
          "ename": "KeyError",
          "evalue": "'counts'",
          "traceback": [
            "\u001b[0;31m---------------------------------------------------------------------------\u001b[0m",
            "\u001b[0;31mKeyError\u001b[0m                                  Traceback (most recent call last)",
            "\u001b[0;32m/tmp/ipython-input-2827821715.py\u001b[0m in \u001b[0;36m<cell line: 0>\u001b[0;34m()\u001b[0m\n\u001b[1;32m      4\u001b[0m \u001b[0;34m\u001b[0m\u001b[0m\n\u001b[1;32m      5\u001b[0m \u001b[0mresult\u001b[0m \u001b[0;34m=\u001b[0m \u001b[0mclient\u001b[0m\u001b[0;34m.\u001b[0m\u001b[0mget_service_execution\u001b[0m\u001b[0;34m(\u001b[0m\u001b[0mjob_id\u001b[0m\u001b[0;34m)\u001b[0m\u001b[0;34m\u001b[0m\u001b[0;34m\u001b[0m\u001b[0m\n\u001b[0;32m----> 6\u001b[0;31m \u001b[0mcounts\u001b[0m \u001b[0;34m=\u001b[0m \u001b[0mresult\u001b[0m\u001b[0;34m.\u001b[0m\u001b[0mresult\u001b[0m\u001b[0;34m(\u001b[0m\u001b[0;34m)\u001b[0m\u001b[0;34m.\u001b[0m\u001b[0mdict\u001b[0m\u001b[0;34m(\u001b[0m\u001b[0;34m)\u001b[0m\u001b[0;34m[\u001b[0m\u001b[0;34m\"counts\"\u001b[0m\u001b[0;34m]\u001b[0m\u001b[0;34m\u001b[0m\u001b[0;34m\u001b[0m\u001b[0m\n\u001b[0m\u001b[1;32m      7\u001b[0m \u001b[0mcounts\u001b[0m \u001b[0;34m=\u001b[0m \u001b[0mdict\u001b[0m\u001b[0;34m(\u001b[0m\u001b[0msorted\u001b[0m\u001b[0;34m(\u001b[0m\u001b[0mcounts\u001b[0m\u001b[0;34m.\u001b[0m\u001b[0mitems\u001b[0m\u001b[0;34m(\u001b[0m\u001b[0;34m)\u001b[0m\u001b[0;34m,\u001b[0m \u001b[0mkey\u001b[0m\u001b[0;34m=\u001b[0m\u001b[0;32mlambda\u001b[0m \u001b[0mitem\u001b[0m\u001b[0;34m:\u001b[0m \u001b[0mitem\u001b[0m\u001b[0;34m[\u001b[0m\u001b[0;36m1\u001b[0m\u001b[0;34m]\u001b[0m\u001b[0;34m,\u001b[0m \u001b[0mreverse\u001b[0m\u001b[0;34m=\u001b[0m\u001b[0;32mTrue\u001b[0m\u001b[0;34m)\u001b[0m\u001b[0;34m)\u001b[0m\u001b[0;34m\u001b[0m\u001b[0;34m\u001b[0m\u001b[0m\n\u001b[1;32m      8\u001b[0m \u001b[0;32mfor\u001b[0m \u001b[0midx\u001b[0m \u001b[0;32min\u001b[0m \u001b[0mrange\u001b[0m\u001b[0;34m(\u001b[0m\u001b[0;36m10\u001b[0m\u001b[0;34m)\u001b[0m\u001b[0;34m:\u001b[0m\u001b[0;34m\u001b[0m\u001b[0;34m\u001b[0m\u001b[0m\n",
            "\u001b[0;31mKeyError\u001b[0m: 'counts'"
          ]
        }
      ]
    },
    {
      "cell_type": "code",
      "source": [
        "client = PlanqkServiceClient(commercial_bias_field_endpoint, consumer_key, consumer_secret)\n",
        "data = {\n",
        "    \"bf_dcqo\": {\n",
        "      \"coefficients\": final_qubo,\n",
        "      \"annealing_time\": 0.7,\n",
        "      \"trotter_steps\": 2,\n",
        "      \"cd_mode\": \"CD\",\n",
        "      \"bf_mode\": \"sign\",\n",
        "      \"shots\": 1024,\n",
        "      \"num_iterations\": 4\n",
        "    }\n",
        "  }\n",
        "\n",
        "params = {\"backend\": \"azure.ionq.simulator\"}\n",
        "\n",
        "job = client.run(request={\"data\": data, \"params\": params})\n",
        "job_id = job.id\n",
        "\n",
        "result = client.get_service_execution(job_id)\n",
        "counts = result.result().dict()[\"counts\"]\n",
        "counts = dict(sorted(counts.items(), key=lambda item: item[1], reverse=True))\n",
        "\n",
        "for idx in range(10):\n",
        "    key = list(counts.keys())[idx]\n",
        "    count = counts[key]\n",
        "    objective_value = calculate_switches(key)\n",
        "    feasible = is_solution_feasible(key)\n",
        "    print(f\"Key: {key}, Count: {count}, Objective Value: {objective_value}, Feasible: {feasible}\")\n",
        "\n",
        "print(\"Classical Solution:\")\n",
        "key = classical_string\n",
        "count = counts[key]\n",
        "objective_value = calculate_switches(key)\n",
        "feasible = is_solution_feasible(key)\n",
        "print(f\"Key: {key}, Count: {count}, Objective Value: {objective_value}, Feasible: {feasible}\")"
      ],
      "metadata": {
        "id": "2dqlnb5arBJO",
        "outputId": "5331347b-9ee8-49a2-a860-391c9400f6cf",
        "colab": {
          "base_uri": "https://localhost:8080/",
          "height": 455
        }
      },
      "execution_count": 28,
      "outputs": [
        {
          "output_type": "error",
          "ename": "ApiError",
          "evalue": "headers: {'date': 'Wed, 13 Aug 2025 09:24:46 GMT', 'content-type': 'application/json', 'transfer-encoding': 'chunked', 'connection': 'keep-alive', 'access-control-allow-origin': '*', 'access-control-allow-methods': 'GET', 'x-content-type-options': 'nosniff', 'pragma': 'no-cache', 'access-control-allow-headers': 'authorization,Access-Control-Allow-Origin,Content-Type,apiKey,Authorization', 'x-frame-options': 'DENY', 'activityid': '895ca68f-e3b2-4dc8-9df0-e0457abdd39a', 'access-control-expose-headers': '', 'strict-transport-security': 'max-age=31536000; includeSubDomains', 'cache-control': 'no-cache, no-store, max-age=0, must-revalidate', 'vary': 'Access-Control-Request-Headers, Access-Control-Request-Method, Origin', 'expires': '0', 'x-xss-protection': '0'}, status_code: 404, body: {'_embedded': {'status': {'id': 'dfd87f70-9a39-4780-80d9-2a1a9fc62dbf', 'createdAt': '2025-08-13 09:23:39', 'startedAt': '2025-08-13 09:23:44', 'endedAt': '2025-08-13 09:24:19', 'status': 'SUCCEEDED'}}, '_links': {'self': {'href': 'https://gateway.platform.planqk.de/kipu-quantum/kipu-bias-field-digitized-counterdiabatic-quantum-optimization---bfdcqo/1.0.0/dfd87f70-9a39-4780-80d9-2a1a9fc62dbf/result'}, 'status': {'href': 'https://gateway.platform.planqk.de/kipu-quantum/kipu-bias-field-digitized-counterdiabatic-quantum-optimization---bfdcqo/1.0.0/dfd87f70-9a39-4780-80d9-2a1a9fc62dbf'}}}",
          "traceback": [
            "\u001b[0;31m---------------------------------------------------------------------------\u001b[0m",
            "\u001b[0;31mApiError\u001b[0m                                  Traceback (most recent call last)",
            "\u001b[0;32m/tmp/ipython-input-1591936482.py\u001b[0m in \u001b[0;36m<cell line: 0>\u001b[0;34m()\u001b[0m\n\u001b[1;32m     18\u001b[0m \u001b[0;34m\u001b[0m\u001b[0m\n\u001b[1;32m     19\u001b[0m \u001b[0mresult\u001b[0m \u001b[0;34m=\u001b[0m \u001b[0mclient\u001b[0m\u001b[0;34m.\u001b[0m\u001b[0mget_service_execution\u001b[0m\u001b[0;34m(\u001b[0m\u001b[0mjob_id\u001b[0m\u001b[0;34m)\u001b[0m\u001b[0;34m\u001b[0m\u001b[0;34m\u001b[0m\u001b[0m\n\u001b[0;32m---> 20\u001b[0;31m \u001b[0mcounts\u001b[0m \u001b[0;34m=\u001b[0m \u001b[0mresult\u001b[0m\u001b[0;34m.\u001b[0m\u001b[0mresult\u001b[0m\u001b[0;34m(\u001b[0m\u001b[0;34m)\u001b[0m\u001b[0;34m.\u001b[0m\u001b[0mdict\u001b[0m\u001b[0;34m(\u001b[0m\u001b[0;34m)\u001b[0m\u001b[0;34m[\u001b[0m\u001b[0;34m\"counts\"\u001b[0m\u001b[0;34m]\u001b[0m\u001b[0;34m\u001b[0m\u001b[0;34m\u001b[0m\u001b[0m\n\u001b[0m\u001b[1;32m     21\u001b[0m \u001b[0mcounts\u001b[0m \u001b[0;34m=\u001b[0m \u001b[0mdict\u001b[0m\u001b[0;34m(\u001b[0m\u001b[0msorted\u001b[0m\u001b[0;34m(\u001b[0m\u001b[0mcounts\u001b[0m\u001b[0;34m.\u001b[0m\u001b[0mitems\u001b[0m\u001b[0;34m(\u001b[0m\u001b[0;34m)\u001b[0m\u001b[0;34m,\u001b[0m \u001b[0mkey\u001b[0m\u001b[0;34m=\u001b[0m\u001b[0;32mlambda\u001b[0m \u001b[0mitem\u001b[0m\u001b[0;34m:\u001b[0m \u001b[0mitem\u001b[0m\u001b[0;34m[\u001b[0m\u001b[0;36m1\u001b[0m\u001b[0;34m]\u001b[0m\u001b[0;34m,\u001b[0m \u001b[0mreverse\u001b[0m\u001b[0;34m=\u001b[0m\u001b[0;32mTrue\u001b[0m\u001b[0;34m)\u001b[0m\u001b[0;34m)\u001b[0m\u001b[0;34m\u001b[0m\u001b[0;34m\u001b[0m\u001b[0m\n\u001b[1;32m     22\u001b[0m \u001b[0;34m\u001b[0m\u001b[0m\n",
            "\u001b[0;32m/usr/local/lib/python3.11/dist-packages/planqk/service/client.py\u001b[0m in \u001b[0;36mresult\u001b[0;34m(self)\u001b[0m\n\u001b[1;32m     74\u001b[0m                 \u001b[0mdelay\u001b[0m \u001b[0;34m*=\u001b[0m \u001b[0;36m2\u001b[0m  \u001b[0;31m# Double the delay\u001b[0m\u001b[0;34m\u001b[0m\u001b[0;34m\u001b[0m\u001b[0m\n\u001b[1;32m     75\u001b[0m                 \u001b[0;32mif\u001b[0m \u001b[0mdelay\u001b[0m \u001b[0;34m>=\u001b[0m \u001b[0mmax_delay\u001b[0m\u001b[0;34m:\u001b[0m\u001b[0;34m\u001b[0m\u001b[0;34m\u001b[0m\u001b[0m\n\u001b[0;32m---> 76\u001b[0;31m                     \u001b[0;32mraise\u001b[0m \u001b[0me\u001b[0m  \u001b[0;31m# If the delay is too long, raise the exception\u001b[0m\u001b[0;34m\u001b[0m\u001b[0;34m\u001b[0m\u001b[0m\n\u001b[0m\u001b[1;32m     77\u001b[0m         \u001b[0;32mreturn\u001b[0m \u001b[0mresult\u001b[0m\u001b[0;34m\u001b[0m\u001b[0;34m\u001b[0m\u001b[0m\n\u001b[1;32m     78\u001b[0m \u001b[0;34m\u001b[0m\u001b[0m\n",
            "\u001b[0;32m/usr/local/lib/python3.11/dist-packages/planqk/service/client.py\u001b[0m in \u001b[0;36mresult\u001b[0;34m(self)\u001b[0m\n\u001b[1;32m     68\u001b[0m         \u001b[0;32mwhile\u001b[0m \u001b[0;32mTrue\u001b[0m\u001b[0;34m:\u001b[0m\u001b[0;34m\u001b[0m\u001b[0;34m\u001b[0m\u001b[0m\n\u001b[1;32m     69\u001b[0m             \u001b[0;32mtry\u001b[0m\u001b[0;34m:\u001b[0m\u001b[0;34m\u001b[0m\u001b[0;34m\u001b[0m\u001b[0m\n\u001b[0;32m---> 70\u001b[0;31m                 \u001b[0mresult\u001b[0m \u001b[0;34m=\u001b[0m \u001b[0mself\u001b[0m\u001b[0;34m.\u001b[0m\u001b[0m_client\u001b[0m\u001b[0;34m.\u001b[0m\u001b[0mapi\u001b[0m\u001b[0;34m.\u001b[0m\u001b[0mget_result\u001b[0m\u001b[0;34m(\u001b[0m\u001b[0mid\u001b[0m\u001b[0;34m=\u001b[0m\u001b[0mself\u001b[0m\u001b[0;34m.\u001b[0m\u001b[0mid\u001b[0m\u001b[0;34m)\u001b[0m\u001b[0;34m\u001b[0m\u001b[0;34m\u001b[0m\u001b[0m\n\u001b[0m\u001b[1;32m     71\u001b[0m                 \u001b[0;32mbreak\u001b[0m  \u001b[0;31m# If the operation succeeds, break out of the loop\u001b[0m\u001b[0;34m\u001b[0m\u001b[0;34m\u001b[0m\u001b[0m\n\u001b[1;32m     72\u001b[0m             \u001b[0;32mexcept\u001b[0m \u001b[0mException\u001b[0m \u001b[0;32mas\u001b[0m \u001b[0me\u001b[0m\u001b[0;34m:\u001b[0m\u001b[0;34m\u001b[0m\u001b[0;34m\u001b[0m\u001b[0m\n",
            "\u001b[0;32m/usr/local/lib/python3.11/dist-packages/planqk/service/sdk/service_api/client.py\u001b[0m in \u001b[0;36mget_result\u001b[0;34m(self, id, request_options)\u001b[0m\n\u001b[1;32m    155\u001b[0m         )\n\u001b[1;32m    156\u001b[0m         \"\"\"\n\u001b[0;32m--> 157\u001b[0;31m         \u001b[0m_response\u001b[0m \u001b[0;34m=\u001b[0m \u001b[0mself\u001b[0m\u001b[0;34m.\u001b[0m\u001b[0m_raw_client\u001b[0m\u001b[0;34m.\u001b[0m\u001b[0mget_result\u001b[0m\u001b[0;34m(\u001b[0m\u001b[0mid\u001b[0m\u001b[0;34m,\u001b[0m \u001b[0mrequest_options\u001b[0m\u001b[0;34m=\u001b[0m\u001b[0mrequest_options\u001b[0m\u001b[0;34m)\u001b[0m\u001b[0;34m\u001b[0m\u001b[0;34m\u001b[0m\u001b[0m\n\u001b[0m\u001b[1;32m    158\u001b[0m         \u001b[0;32mreturn\u001b[0m \u001b[0m_response\u001b[0m\u001b[0;34m.\u001b[0m\u001b[0mdata\u001b[0m\u001b[0;34m\u001b[0m\u001b[0;34m\u001b[0m\u001b[0m\n\u001b[1;32m    159\u001b[0m \u001b[0;34m\u001b[0m\u001b[0m\n",
            "\u001b[0;32m/usr/local/lib/python3.11/dist-packages/planqk/service/sdk/service_api/raw_client.py\u001b[0m in \u001b[0;36mget_result\u001b[0;34m(self, id, request_options)\u001b[0m\n\u001b[1;32m    183\u001b[0m         \u001b[0;32mexcept\u001b[0m \u001b[0mJSONDecodeError\u001b[0m\u001b[0;34m:\u001b[0m\u001b[0;34m\u001b[0m\u001b[0;34m\u001b[0m\u001b[0m\n\u001b[1;32m    184\u001b[0m             \u001b[0;32mraise\u001b[0m \u001b[0mApiError\u001b[0m\u001b[0;34m(\u001b[0m\u001b[0mstatus_code\u001b[0m\u001b[0;34m=\u001b[0m\u001b[0m_response\u001b[0m\u001b[0;34m.\u001b[0m\u001b[0mstatus_code\u001b[0m\u001b[0;34m,\u001b[0m \u001b[0mheaders\u001b[0m\u001b[0;34m=\u001b[0m\u001b[0mdict\u001b[0m\u001b[0;34m(\u001b[0m\u001b[0m_response\u001b[0m\u001b[0;34m.\u001b[0m\u001b[0mheaders\u001b[0m\u001b[0;34m)\u001b[0m\u001b[0;34m,\u001b[0m \u001b[0mbody\u001b[0m\u001b[0;34m=\u001b[0m\u001b[0m_response\u001b[0m\u001b[0;34m.\u001b[0m\u001b[0mtext\u001b[0m\u001b[0;34m)\u001b[0m\u001b[0;34m\u001b[0m\u001b[0;34m\u001b[0m\u001b[0m\n\u001b[0;32m--> 185\u001b[0;31m         \u001b[0;32mraise\u001b[0m \u001b[0mApiError\u001b[0m\u001b[0;34m(\u001b[0m\u001b[0mstatus_code\u001b[0m\u001b[0;34m=\u001b[0m\u001b[0m_response\u001b[0m\u001b[0;34m.\u001b[0m\u001b[0mstatus_code\u001b[0m\u001b[0;34m,\u001b[0m \u001b[0mheaders\u001b[0m\u001b[0;34m=\u001b[0m\u001b[0mdict\u001b[0m\u001b[0;34m(\u001b[0m\u001b[0m_response\u001b[0m\u001b[0;34m.\u001b[0m\u001b[0mheaders\u001b[0m\u001b[0;34m)\u001b[0m\u001b[0;34m,\u001b[0m \u001b[0mbody\u001b[0m\u001b[0;34m=\u001b[0m\u001b[0m_response_json\u001b[0m\u001b[0;34m)\u001b[0m\u001b[0;34m\u001b[0m\u001b[0;34m\u001b[0m\u001b[0m\n\u001b[0m\u001b[1;32m    186\u001b[0m \u001b[0;34m\u001b[0m\u001b[0m\n\u001b[1;32m    187\u001b[0m     \u001b[0;34m@\u001b[0m\u001b[0mcontextlib\u001b[0m\u001b[0;34m.\u001b[0m\u001b[0mcontextmanager\u001b[0m\u001b[0;34m\u001b[0m\u001b[0;34m\u001b[0m\u001b[0m\n",
            "\u001b[0;31mApiError\u001b[0m: headers: {'date': 'Wed, 13 Aug 2025 09:24:46 GMT', 'content-type': 'application/json', 'transfer-encoding': 'chunked', 'connection': 'keep-alive', 'access-control-allow-origin': '*', 'access-control-allow-methods': 'GET', 'x-content-type-options': 'nosniff', 'pragma': 'no-cache', 'access-control-allow-headers': 'authorization,Access-Control-Allow-Origin,Content-Type,apiKey,Authorization', 'x-frame-options': 'DENY', 'activityid': '895ca68f-e3b2-4dc8-9df0-e0457abdd39a', 'access-control-expose-headers': '', 'strict-transport-security': 'max-age=31536000; includeSubDomains', 'cache-control': 'no-cache, no-store, max-age=0, must-revalidate', 'vary': 'Access-Control-Request-Headers, Access-Control-Request-Method, Origin', 'expires': '0', 'x-xss-protection': '0'}, status_code: 404, body: {'_embedded': {'status': {'id': 'dfd87f70-9a39-4780-80d9-2a1a9fc62dbf', 'createdAt': '2025-08-13 09:23:39', 'startedAt': '2025-08-13 09:23:44', 'endedAt': '2025-08-13 09:24:19', 'status': 'SUCCEEDED'}}, '_links': {'self': {'href': 'https://gateway.platform.planqk.de/kipu-quantum/kipu-bias-field-digitized-counterdiabatic-quantum-optimization---bfdcqo/1.0.0/dfd87f70-9a39-4780-80d9-2a1a9fc62dbf/result'}, 'status': {'href': 'https://gateway.platform.planqk.de/kipu-quantum/kipu-bias-field-digitized-counterdiabatic-quantum-optimization---bfdcqo/1.0.0/dfd87f70-9a39-4780-80d9-2a1a9fc62dbf'}}}"
          ]
        }
      ]
    },
    {
      "cell_type": "markdown",
      "source": [
        "When I check with the API from the Planqk directly I can see that the Premium DCQO fails (don't know why) and that the BFDCQO claims to succeed, but tryign to access the results fives a 404 not found error."
      ],
      "metadata": {
        "id": "SohsNvEDtlAg"
      }
    }
  ],
  "metadata": {
    "kernelspec": {
      "display_name": "qusol",
      "language": "python",
      "name": "python3"
    },
    "language_info": {
      "codemirror_mode": {
        "name": "ipython",
        "version": 3
      },
      "file_extension": ".py",
      "mimetype": "text/x-python",
      "name": "python",
      "nbconvert_exporter": "python",
      "pygments_lexer": "ipython3",
      "version": "3.13.5"
    },
    "orig_nbformat": 4,
    "colab": {
      "provenance": []
    }
  },
  "nbformat": 4,
  "nbformat_minor": 0
}