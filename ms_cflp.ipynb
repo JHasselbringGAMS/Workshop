{
 "cells": [
  {
   "cell_type": "markdown",
   "id": "7677e6a9",
   "metadata": {},
   "source": [
    "# Multi source Capacitated Facility Location Problem"
   ]
  },
  {
   "cell_type": "markdown",
   "id": "bf2fee57",
   "metadata": {},
   "source": [
    "The Multi-Source Capacitated Facility Location Problem (MSCFLP) aims to decide where to open facilities and how to allocate customer demand to them. The goal is to minimize total costs (fixed facility costs and transportation costs) while ensuring each facility's limited capacity isn't exceeded and all customer demands are met. Crucially, customers can be served by multiple facilities in this problem."
   ]
  },
  {
   "cell_type": "markdown",
   "id": "e6c2241d",
   "metadata": {},
   "source": [
    "![cflp](cflp.jpg)\n",
    "(https://link.springer.com/article/10.1057/s41274-016-0155-6/figures/1)"
   ]
  },
  {
   "cell_type": "code",
   "execution_count": null,
   "id": "d414905f",
   "metadata": {},
   "outputs": [],
   "source": [
    "# Install dependencies\n",
    "! pip install -q gamspy"
   ]
  },
  {
   "cell_type": "code",
   "execution_count": null,
   "id": "79fce5b3",
   "metadata": {},
   "outputs": [],
   "source": [
    "import random\n",
    "random.seed(42)"
   ]
  },
  {
   "cell_type": "markdown",
   "id": "ec9e3787",
   "metadata": {},
   "source": [
    "First, we need to define the data that describes our problem. We can open new facilities at every grid point, and our customers are located within a circular area in the middle."
   ]
  },
  {
   "cell_type": "code",
   "execution_count": null,
   "id": "c436059b",
   "metadata": {},
   "outputs": [],
   "source": [
    "import matplotlib.pyplot as plt\n",
    "import numpy as np\n",
    "\n",
    "x_min, x_max = -3, 3\n",
    "y_min, y_max = -3, 3\n",
    "num_points_per_side = 7\n",
    "\n",
    "x_grid = np.linspace(x_min, x_max, num_points_per_side)\n",
    "y_grid = np.linspace(y_min, y_max, num_points_per_side)\n",
    "X_grid, Y_grid = np.meshgrid(x_grid, y_grid)\n",
    "\n",
    "center_x, center_y = 0, 0\n",
    "radius = 1.5\n",
    "num_circle_points = 35\n",
    "\n",
    "angles = 2 * np.pi * np.random.rand(num_circle_points)\n",
    "radii = radius * np.sqrt(np.random.rand(num_circle_points))\n",
    "\n",
    "circle_x_coords = center_x + radii * np.cos(angles)\n",
    "circle_y_coords = center_y + radii * np.sin(angles)\n",
    "\n",
    "\n",
    "def plot_locations(facility_selection=None):\n",
    "\n",
    "    plt.figure(figsize=(5, 5))\n",
    "\n",
    "    plt.scatter(\n",
    "        X_grid, Y_grid, color=\"blue\", label=\"Potential Facility Locations\", alpha=0.7\n",
    "    )\n",
    "\n",
    "    plt.scatter(\n",
    "        circle_x_coords, circle_y_coords, color=\"red\", label=\"Customers\", alpha=0.8\n",
    "    )\n",
    "\n",
    "    if facility_selection is not None:\n",
    "        plt.scatter(\n",
    "            facility_selection[0],\n",
    "            facility_selection[1],\n",
    "            color=\"green\",\n",
    "            label=\"Opened Facilities\",\n",
    "        )\n",
    "\n",
    "    plt.xlabel(\"X-coordinate\")\n",
    "    plt.ylabel(\"Y-coordinate\")\n",
    "    plt.grid(True, linestyle=\"--\", alpha=0.6)\n",
    "    plt.legend(loc=\"upper right\")\n",
    "    plt.show()\n",
    "\n",
    "\n",
    "plot_locations()"
   ]
  },
  {
   "cell_type": "markdown",
   "id": "589d9e5a",
   "metadata": {},
   "source": [
    "For our model, we will later need the distances between facilities and customers. Opening facilities in the center is more expensive than opening them on the outskirts. For simplicity, let's assume that all facilities have the same capacity and all customers have the same demand."
   ]
  },
  {
   "cell_type": "code",
   "execution_count": null,
   "id": "446b4cc9",
   "metadata": {},
   "outputs": [],
   "source": [
    "facility_coords = np.vstack((X_grid.flatten(), Y_grid.flatten()))\n",
    "customer_coords = np.vstack((circle_x_coords.flatten(), circle_y_coords.flatten()))\n",
    "\n",
    "distances_data = np.zeros((facility_coords.shape[1], customer_coords.shape[1]))\n",
    "for i in range(facility_coords.shape[1]):\n",
    "    for j in range(customer_coords.shape[1]):\n",
    "        # Euclidean distance formula: sqrt((x2-x1)^2 + (y2-y1)^2)\n",
    "        distances_data[i, j] = np.sqrt(\n",
    "            (facility_coords[0, i] - customer_coords[0, j]) ** 2\n",
    "            + (facility_coords[1, i] - customer_coords[1, j]) ** 2\n",
    "        )\n",
    "\n",
    "\n",
    "inner_radius = 4  # Facilities within this radius are considered \"middle\"\n",
    "expensive_cost_range = (2000, 4000)\n",
    "cheap_cost_range = (1000, 2000)\n",
    "small_capacity_range = (50, 100)\n",
    "big_capacity_range = (100, 200)\n",
    "\n",
    "\n",
    "distances_from_center = np.linalg.norm(\n",
    "    facility_coords - np.array([[center_x], [center_y]]), axis=0\n",
    ")\n",
    "\n",
    "opening_costs_data = [\n",
    "    (\n",
    "        round(np.random.uniform(expensive_cost_range[0], expensive_cost_range[1]))\n",
    "        if dist <= inner_radius\n",
    "        else round(np.random.uniform(cheap_cost_range[0], cheap_cost_range[1]))\n",
    "    )\n",
    "    for dist in distances_from_center\n",
    "]\n",
    "\n",
    "capacity_data = [200 for _ in range(facility_coords.shape[1])]\n",
    "\n",
    "demand_data = [50 for _ in range(customer_coords.shape[1])]"
   ]
  },
  {
   "cell_type": "markdown",
   "id": "18d480f7",
   "metadata": {},
   "source": [
    "### Model Definition\n",
    "We need to import GAMSPy and create a container for our model."
   ]
  },
  {
   "cell_type": "code",
   "execution_count": null,
   "id": "9d368b63",
   "metadata": {},
   "outputs": [],
   "source": [
    "import gamspy as gp\n",
    "\n",
    "m = gp.Container()\n"
   ]
  },
  {
   "cell_type": "markdown",
   "id": "14c3c7e6",
   "metadata": {},
   "source": [
    "Start by eliminating transportation costs; simply beam the goods to the customer.\n",
    "\n",
    "We need two sets:\n",
    "\n",
    "$$\n",
    "\\begin{array}{rcl}\n",
    "\\mathcal{I} :& \\text{Set of potential facilities}  \\\\\n",
    "\\mathcal{J} :& \\text{Set of customers}\n",
    "\\end{array}\n",
    "$$\n"
   ]
  },
  {
   "cell_type": "code",
   "execution_count": null,
   "id": "35c7cd15",
   "metadata": {},
   "outputs": [],
   "source": [
    "i = gp.Set(\n",
    "    m,\n",
    "    name=\"i\",\n",
    "    records=[f\"i{i}\" for i in range(facility_coords.shape[1])],\n",
    "    description=\"Potential facility locations\",\n",
    ")\n",
    "\n",
    "j = gp.Set(\n",
    "    m,\n",
    "    name=\"j\",\n",
    "    records=[f\"j{j}\" for j in range(customer_coords.shape[1])],\n",
    "    description=\"Customers\",\n",
    ")"
   ]
  },
  {
   "cell_type": "markdown",
   "id": "1c824d13",
   "metadata": {},
   "source": [
    "And three parameters\n",
    "$$\n",
    "\\begin{array}{rcl}\n",
    "f_i :& \\text{Fixed cost for opening facility } i  \\\\\n",
    "q_i :& \\text{Capacity of facility } i  \\\\\n",
    "d_j :& \\text{Demand of customer } j\n",
    "\\end{array}\n",
    "$$"
   ]
  },
  {
   "cell_type": "code",
   "execution_count": null,
   "id": "f4188133",
   "metadata": {},
   "outputs": [],
   "source": [
    "opening_cost = gp.Parameter(\n",
    "    m,\n",
    "    \"f_i\",\n",
    "    domain=i,\n",
    "    records=[[f\"i{i}\", value] for i, value in enumerate(opening_costs_data)],\n",
    "    description=\"Fixed cost for opening facility i\",\n",
    ")\n",
    "\n",
    "capacity = gp.Parameter(\n",
    "    m,\n",
    "    \"q_i\",\n",
    "    domain=i,\n",
    "    records=[[f\"i{i}\", value] for i, value in enumerate(capacity_data)],\n",
    "    description=\"Capacity of facility i\",\n",
    ")\n",
    "\n",
    "demand = gp.Parameter(\n",
    "    m,\n",
    "    \"d_j\",\n",
    "    domain=j,\n",
    "    records=[[f\"j{j}\", value] for j, value in enumerate(demand_data)],\n",
    "    description=\"Demand of customer j\",\n",
    ")"
   ]
  },
  {
   "cell_type": "markdown",
   "id": "e1e4b0df",
   "metadata": {},
   "source": [
    "Decide for each facility if it will be opened:\n",
    "\n",
    "$$ Y_i \\in \\lbrace 0, 1\\rbrace \\hspace{1cm} \\forall i\\in \\mathcal{I} \\tag{3} $$"
   ]
  },
  {
   "cell_type": "code",
   "execution_count": null,
   "id": "c3839413",
   "metadata": {},
   "outputs": [],
   "source": [
    "y = gp.Variable(\n",
    "    m,\n",
    "    \"y\",\n",
    "    type=\"binary\",\n",
    "    domain=i,\n",
    "    description=\"Is facility i open\",\n",
    ")"
   ]
  },
  {
   "cell_type": "markdown",
   "id": "31434672",
   "metadata": {},
   "source": [
    "We want to minimize the opening costs:\n",
    "\n",
    "$$\\min \\sum_{i \\in \\mathcal{I} \\hspace{0.75mm} | \\hspace{0.75mm} i < |I|} f_i Y_i \\tag{1} $$"
   ]
  },
  {
   "cell_type": "code",
   "execution_count": null,
   "id": "cb3fbd1d",
   "metadata": {},
   "outputs": [],
   "source": [
    "obj = gp.Sum(i, opening_cost[i] * y[i])"
   ]
  },
  {
   "cell_type": "markdown",
   "id": "90e751d1",
   "metadata": {},
   "source": [
    "While fulfilling the demand of all customers:\n",
    "\n",
    "$$ \\sum_{i\\in \\mathcal{I}} q_i Y_i \\ge \\sum_{j\\in \\mathcal{J}} d_j \\hspace{1cm} \\tag{2} $$"
   ]
  },
  {
   "cell_type": "code",
   "execution_count": null,
   "id": "309a979e",
   "metadata": {},
   "outputs": [],
   "source": [
    "facilities_meet_demand = gp.Equation(\n",
    "    m,\n",
    "    name=\"facilities_meet_demand\",\n",
    "    description=\"The facilities need to be able to fulfill the demand\",\n",
    ")\n",
    "\n",
    "# Note this is a scalar equation so we need to access [...]\n",
    "facilities_meet_demand[...] = gp.Sum(i, capacity[i] * y[i]) >= gp.Sum(j, demand[j])"
   ]
  },
  {
   "cell_type": "markdown",
   "id": "9584b790",
   "metadata": {},
   "source": [
    "Now we just combine everything into a model:"
   ]
  },
  {
   "cell_type": "code",
   "execution_count": null,
   "id": "9412f9f3",
   "metadata": {},
   "outputs": [],
   "source": [
    "cflp_beam = gp.Model(\n",
    "    m,\n",
    "    name=\"cflp_beam\",\n",
    "    equations=[facilities_meet_demand],\n",
    "    problem=\"MIP\",\n",
    "    sense=gp.Sense.MIN,\n",
    "    objective=obj,\n",
    ")\n",
    "\n",
    "cflp_beam.solve(\n",
    "    solver=\"CPLEX\",\n",
    ")\n"
   ]
  },
  {
   "cell_type": "markdown",
   "id": "b776062c",
   "metadata": {},
   "source": [
    "And we can display our solution:"
   ]
  },
  {
   "cell_type": "code",
   "execution_count": null,
   "id": "7e8aa544",
   "metadata": {},
   "outputs": [],
   "source": [
    "print(f\"Optimal solution: {cflp_beam.objective_value}\")\n",
    "print(f\"Number of facilities open: {y.records['level'].sum()}\")\n",
    "plot_locations(facility_coords[:, y.records[\"level\"] == 1])"
   ]
  },
  {
   "cell_type": "markdown",
   "id": "4272992c",
   "metadata": {},
   "source": [
    "Note that, without considering transportation costs, we would obviously open the facilities outside.\n",
    "\n",
    "Let's save the current solution for y in a parameter so that we can use it for comparisons later."
   ]
  },
  {
   "cell_type": "code",
   "execution_count": null,
   "id": "f1c0d622",
   "metadata": {},
   "outputs": [],
   "source": [
    "y_beam = gp.Parameter(m, \"y_beam\", domain=i)\n",
    "y_beam[i] = y.l[i]"
   ]
  },
  {
   "cell_type": "markdown",
   "id": "c079fe78",
   "metadata": {},
   "source": [
    "# Expand the Model Yourself"
   ]
  },
  {
   "cell_type": "markdown",
   "id": "d5158c47",
   "metadata": {},
   "source": [
    "Now let's add transportation costs. We then need to decide which customer is supplied by which facility.\n",
    "\n",
    "$$\n",
    "\\begin{array}{rcl}\n",
    "c_{ij} :=& \\text{Unit transportation cost from facility } i \\text{ to customer } j  \\\\\n",
    "X_{ij} :=& \\text{Fraction of the fulfilled demand of customer } j \\text{ by facility } i  \\\\\n",
    "\\end{array}\n",
    "$$\n",
    "\n",
    "$$X_{ij} \\in \\left[ 0, 1 \\right]  $$"
   ]
  },
  {
   "cell_type": "code",
   "execution_count": null,
   "id": "8074fff9",
   "metadata": {},
   "outputs": [],
   "source": [
    "unit_transportation_cost = 200\n",
    "\n",
    "transportation_cost = gp.Parameter(\n",
    "    m,\n",
    "    \"c_ij\",\n",
    "    domain=[i, j],\n",
    "    records=[\n",
    "        [f\"i{i}\", f\"j{j}\", value]\n",
    "        for i, row in enumerate(unit_transportation_cost*distances_data)\n",
    "        for j, value in enumerate(row)\n",
    "    ],\n",
    "    description=\"Unit transportation cost from facility i to customer j\",\n",
    ")\n",
    "\n",
    "x = gp.Variable(\n",
    "    m,\n",
    "    \"x\",\n",
    "    type=\"positive\",\n",
    "    domain=[i, j],\n",
    "    description=\"Fraction of the fulfilled demand of customer j by facility i\",\n",
    ")"
   ]
  },
  {
   "cell_type": "markdown",
   "id": "50dbe671",
   "metadata": {},
   "source": [
    " What do we need to add to the objective function?"
   ]
  },
  {
   "cell_type": "markdown",
   "id": "a3e33bc0",
   "metadata": {},
   "source": [
    "The transportation cost:\n",
    "\n",
    "$$\\min \\sum_{i \\in \\mathcal{I}} f_i Y_i + ?$$"
   ]
  },
  {
   "cell_type": "code",
   "execution_count": null,
   "id": "fb671474",
   "metadata": {},
   "outputs": [],
   "source": [
    "obj = gp.Sum(i, opening_cost[i] * y[i]) + ..."
   ]
  },
  {
   "cell_type": "markdown",
   "id": "1c85ffe5",
   "metadata": {},
   "source": [
    "Need to ensure the whole demand is fulfilled\n",
    "\n",
    "$$ \\sum_{i\\in \\mathcal{I}} X_{ij} = ?  \\hspace{1cm} \\forall j \\in \\mathcal{J}$$"
   ]
  },
  {
   "cell_type": "code",
   "execution_count": null,
   "id": "91ea7f79",
   "metadata": {},
   "outputs": [],
   "source": [
    "demand_fulfillment = gp.Equation(\n",
    "    m,\n",
    "    name=\"demand_fulfillment\",\n",
    "    domain=[j],\n",
    "    description=\"Every customers demand should be fulfilled\",\n",
    ")\n",
    "\n",
    "demand_fulfillment[j] = gp.Sum(i, x[i,j]) == ..."
   ]
  },
  {
   "cell_type": "markdown",
   "id": "80dd2a7d",
   "metadata": {},
   "source": [
    "The facilities have a limited capacity. How does this influence the demand fulfillment of the customers?"
   ]
  },
  {
   "cell_type": "markdown",
   "id": "395cd716",
   "metadata": {},
   "source": [
    "$$ \\sum_{j\\in \\mathcal{J}} ? \\le ?  \\hspace{1cm} \\forall i \\in \\mathcal{I}$$"
   ]
  },
  {
   "cell_type": "code",
   "execution_count": null,
   "id": "640d3802",
   "metadata": {},
   "outputs": [],
   "source": [
    "capacity_constraints = gp.Equation(\n",
    "    m,\n",
    "    name=\"capacity_constraints\",\n",
    "    domain=i,\n",
    "    description=\"Facility can't deliver more than its capacity\",\n",
    ")\n",
    "capacity_constraints[i] = gp.Sum(j, ...) <= ..."
   ]
  },
  {
   "cell_type": "markdown",
   "id": "69de05b0",
   "metadata": {},
   "source": [
    "Some facilities will probably stay closed. How does this influence the demand fulfillment of the customers?"
   ]
  },
  {
   "cell_type": "markdown",
   "id": "1f7403f5",
   "metadata": {},
   "source": [
    "$$  ? \\le ?  \\hspace{1cm} \\forall i \\in \\mathcal{I}, \\forall j \\in \\mathcal{J}$$"
   ]
  },
  {
   "cell_type": "code",
   "execution_count": null,
   "id": "a7910195",
   "metadata": {},
   "outputs": [],
   "source": [
    "logical_linking = gp.Equation(\n",
    "    m,\n",
    "    name=\"logical_linking\",\n",
    "    domain=[i, j],\n",
    "    description=\"Only opened facilities can deliver\",\n",
    ")\n",
    "logical_linking[i, j] = ... <= ..."
   ]
  },
  {
   "cell_type": "markdown",
   "id": "cbafa6c9",
   "metadata": {},
   "source": [
    "Combine everything in a model again:"
   ]
  },
  {
   "cell_type": "code",
   "execution_count": null,
   "id": "18acdd75",
   "metadata": {},
   "outputs": [],
   "source": [
    "cflp = gp.Model(\n",
    "    m,\n",
    "    name=\"cflp\",\n",
    "    equations=[demand_fulfillment, capacity_constraints, logical_linking],\n",
    "    problem=\"MIP\",\n",
    "    sense=gp.Sense.MIN,\n",
    "    objective=obj,\n",
    ")\n",
    "\n",
    "cflp.solve(\n",
    "    solver=\"CPLEX\",\n",
    ")\n",
    "\n",
    "print(f\"Optimal solution: {cflp.objective_value}\")\n",
    "print(f\"Number of facilities open: {y.records['level'].sum()}\")"
   ]
  },
  {
   "cell_type": "markdown",
   "id": "d1bce1e5",
   "metadata": {},
   "source": [
    "As you can see, we are now opening facilities in the center to shorten delivery distances."
   ]
  },
  {
   "cell_type": "code",
   "execution_count": null,
   "id": "cbdfc125",
   "metadata": {},
   "outputs": [],
   "source": [
    "plot_locations(facility_coords[:, y.records[\"level\"] == 1])"
   ]
  },
  {
   "cell_type": "markdown",
   "id": "b92a0e56",
   "metadata": {},
   "source": [
    "Finally, let's compare how much more expansive it would be if we kept the facility selection from our first model."
   ]
  },
  {
   "cell_type": "code",
   "execution_count": null,
   "id": "2c243283",
   "metadata": {},
   "outputs": [],
   "source": [
    "y.fx[i] = y_beam[i]\n",
    "\n",
    "cflp_fix_y = gp.Model(\n",
    "    m,\n",
    "    name=\"cflp_fix_y\",\n",
    "    equations=[demand_fulfillment, capacity_constraints, logical_linking],\n",
    "    problem=\"MIP\",\n",
    "    sense=gp.Sense.MIN,\n",
    "    objective=obj,\n",
    ")\n",
    "\n",
    "cflp_fix_y.solve(\n",
    "    solver=\"CPLEX\",\n",
    ")\n",
    "\n",
    "print(f\"Optimal solution: {cflp_fix_y.objective_value}\")\n",
    "print(f\"Number of facilities open: {y.records['level'].sum()}\")"
   ]
  }
 ],
 "metadata": {
  "kernelspec": {
   "display_name": "qusol",
   "language": "python",
   "name": "python3"
  },
  "language_info": {
   "codemirror_mode": {
    "name": "ipython",
    "version": 3
   },
   "file_extension": ".py",
   "mimetype": "text/x-python",
   "name": "python",
   "nbconvert_exporter": "python",
   "pygments_lexer": "ipython3",
   "version": "3.13.5"
  }
 },
 "nbformat": 4,
 "nbformat_minor": 5
}
